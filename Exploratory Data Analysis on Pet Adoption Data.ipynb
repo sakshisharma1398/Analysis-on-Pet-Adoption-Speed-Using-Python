{
 "cells": [
  {
   "cell_type": "markdown",
   "id": "ace26065",
   "metadata": {},
   "source": [
    "### PET ADOPTION Dataset"
   ]
  },
  {
   "cell_type": "code",
   "execution_count": 1,
   "id": "9fbee573",
   "metadata": {},
   "outputs": [],
   "source": [
    "import numpy as np\n",
    "import pandas as pd\n",
    "#import matplotlib\n",
    "import matplotlib.pyplot as plt\n",
    "%matplotlib inline\n",
    "import math\n",
    "import nltk as nlp\n",
    "import re\n",
    "from nltk.corpus import stopwords\n",
    "from nltk.stem import WordNetLemmatizer\n",
    "import seaborn as sns"
   ]
  },
  {
   "cell_type": "code",
   "execution_count": 1,
   "id": "3024d4d3",
   "metadata": {},
   "outputs": [],
   "source": [
    "#Before working on the dataset in Python, I have removed columns with redudant information and rows with null values."
   ]
  },
  {
   "cell_type": "code",
   "execution_count": 84,
   "id": "dd2a29fd",
   "metadata": {},
   "outputs": [
    {
     "data": {
      "text/html": [
       "<div>\n",
       "<style scoped>\n",
       "    .dataframe tbody tr th:only-of-type {\n",
       "        vertical-align: middle;\n",
       "    }\n",
       "\n",
       "    .dataframe tbody tr th {\n",
       "        vertical-align: top;\n",
       "    }\n",
       "\n",
       "    .dataframe thead th {\n",
       "        text-align: right;\n",
       "    }\n",
       "</style>\n",
       "<table border=\"1\" class=\"dataframe\">\n",
       "  <thead>\n",
       "    <tr style=\"text-align: right;\">\n",
       "      <th></th>\n",
       "      <th>Type</th>\n",
       "      <th>Age</th>\n",
       "      <th>Gender</th>\n",
       "      <th>Color</th>\n",
       "      <th>Size</th>\n",
       "      <th>FurLength</th>\n",
       "      <th>Vaccinated</th>\n",
       "      <th>Dewormed</th>\n",
       "      <th>Sterilized</th>\n",
       "      <th>Health</th>\n",
       "      <th>Description</th>\n",
       "      <th>PetID</th>\n",
       "      <th>AdoptionSpeed</th>\n",
       "    </tr>\n",
       "  </thead>\n",
       "  <tbody>\n",
       "    <tr>\n",
       "      <th>0</th>\n",
       "      <td>2</td>\n",
       "      <td>3</td>\n",
       "      <td>1</td>\n",
       "      <td>1</td>\n",
       "      <td>1</td>\n",
       "      <td>1</td>\n",
       "      <td>2</td>\n",
       "      <td>2</td>\n",
       "      <td>2</td>\n",
       "      <td>1</td>\n",
       "      <td>Nibble is a 3+ month old ball of cuteness. He ...</td>\n",
       "      <td>86e1089a3</td>\n",
       "      <td>2</td>\n",
       "    </tr>\n",
       "    <tr>\n",
       "      <th>1</th>\n",
       "      <td>2</td>\n",
       "      <td>1</td>\n",
       "      <td>1</td>\n",
       "      <td>1</td>\n",
       "      <td>2</td>\n",
       "      <td>2</td>\n",
       "      <td>3</td>\n",
       "      <td>3</td>\n",
       "      <td>3</td>\n",
       "      <td>1</td>\n",
       "      <td>I just found it alone yesterday near my apartm...</td>\n",
       "      <td>6296e909a</td>\n",
       "      <td>0</td>\n",
       "    </tr>\n",
       "    <tr>\n",
       "      <th>2</th>\n",
       "      <td>1</td>\n",
       "      <td>1</td>\n",
       "      <td>1</td>\n",
       "      <td>2</td>\n",
       "      <td>2</td>\n",
       "      <td>2</td>\n",
       "      <td>1</td>\n",
       "      <td>1</td>\n",
       "      <td>2</td>\n",
       "      <td>1</td>\n",
       "      <td>Their pregnant mother was dumped by her irresp...</td>\n",
       "      <td>3422e4906</td>\n",
       "      <td>3</td>\n",
       "    </tr>\n",
       "    <tr>\n",
       "      <th>3</th>\n",
       "      <td>1</td>\n",
       "      <td>4</td>\n",
       "      <td>2</td>\n",
       "      <td>1</td>\n",
       "      <td>2</td>\n",
       "      <td>1</td>\n",
       "      <td>1</td>\n",
       "      <td>1</td>\n",
       "      <td>2</td>\n",
       "      <td>1</td>\n",
       "      <td>Good guard dog, very alert, active, obedience ...</td>\n",
       "      <td>5842f1ff5</td>\n",
       "      <td>2</td>\n",
       "    </tr>\n",
       "    <tr>\n",
       "      <th>4</th>\n",
       "      <td>1</td>\n",
       "      <td>1</td>\n",
       "      <td>1</td>\n",
       "      <td>1</td>\n",
       "      <td>2</td>\n",
       "      <td>1</td>\n",
       "      <td>2</td>\n",
       "      <td>2</td>\n",
       "      <td>2</td>\n",
       "      <td>1</td>\n",
       "      <td>This handsome yet cute boy is up for adoption....</td>\n",
       "      <td>850a43f90</td>\n",
       "      <td>2</td>\n",
       "    </tr>\n",
       "  </tbody>\n",
       "</table>\n",
       "</div>"
      ],
      "text/plain": [
       "   Type  Age  Gender  Color  Size  FurLength  Vaccinated  Dewormed  \\\n",
       "0     2    3       1      1     1          1           2         2   \n",
       "1     2    1       1      1     2          2           3         3   \n",
       "2     1    1       1      2     2          2           1         1   \n",
       "3     1    4       2      1     2          1           1         1   \n",
       "4     1    1       1      1     2          1           2         2   \n",
       "\n",
       "   Sterilized  Health                                        Description  \\\n",
       "0           2       1  Nibble is a 3+ month old ball of cuteness. He ...   \n",
       "1           3       1  I just found it alone yesterday near my apartm...   \n",
       "2           2       1  Their pregnant mother was dumped by her irresp...   \n",
       "3           2       1  Good guard dog, very alert, active, obedience ...   \n",
       "4           2       1  This handsome yet cute boy is up for adoption....   \n",
       "\n",
       "       PetID  AdoptionSpeed  \n",
       "0  86e1089a3              2  \n",
       "1  6296e909a              0  \n",
       "2  3422e4906              3  \n",
       "3  5842f1ff5              2  \n",
       "4  850a43f90              2  "
      ]
     },
     "execution_count": 84,
     "metadata": {},
     "output_type": "execute_result"
    }
   ],
   "source": [
    "df_original = pd.read_csv('C:/Users/saksh/Desktop/train.csv')\n",
    "df_original.head()"
   ]
  },
  {
   "cell_type": "code",
   "execution_count": 111,
   "id": "bd1ed80f",
   "metadata": {},
   "outputs": [
    {
     "data": {
      "text/plain": [
       "(14993, 13)"
      ]
     },
     "execution_count": 111,
     "metadata": {},
     "output_type": "execute_result"
    }
   ],
   "source": [
    "df_original.shape"
   ]
  },
  {
   "cell_type": "code",
   "execution_count": 117,
   "id": "5af80e92",
   "metadata": {
    "scrolled": true
   },
   "outputs": [
    {
     "data": {
      "text/plain": [
       "(14993, 13)"
      ]
     },
     "execution_count": 117,
     "metadata": {},
     "output_type": "execute_result"
    }
   ],
   "source": [
    "df1= df_original.drop_duplicates(subset = 'PetID', inplace = False)\n",
    "df1.shape"
   ]
  },
  {
   "cell_type": "code",
   "execution_count": 118,
   "id": "d766e7b8",
   "metadata": {
    "scrolled": true
   },
   "outputs": [
    {
     "data": {
      "text/plain": [
       "(14002, 13)"
      ]
     },
     "execution_count": 118,
     "metadata": {},
     "output_type": "execute_result"
    }
   ],
   "source": [
    "df= df_original.drop_duplicates(subset = 'Description', inplace = False)\n",
    "df.shape"
   ]
  },
  {
   "cell_type": "code",
   "execution_count": null,
   "id": "beff0ea5",
   "metadata": {},
   "outputs": [],
   "source": [
    "#Here, we can see that there are pets with different PetID but same Description. Hence, I removed those entries."
   ]
  },
  {
   "cell_type": "code",
   "execution_count": 87,
   "id": "2fd72746",
   "metadata": {
    "scrolled": false
   },
   "outputs": [
    {
     "data": {
      "text/plain": [
       "Type             0\n",
       "Age              0\n",
       "Gender           0\n",
       "Color            0\n",
       "Size             0\n",
       "FurLength        0\n",
       "Vaccinated       0\n",
       "Dewormed         0\n",
       "Sterilized       0\n",
       "Health           0\n",
       "Description      1\n",
       "PetID            0\n",
       "AdoptionSpeed    0\n",
       "dtype: int64"
      ]
     },
     "execution_count": 87,
     "metadata": {},
     "output_type": "execute_result"
    }
   ],
   "source": [
    "df.isna().sum() #no null values in the dataset except for the Description column"
   ]
  },
  {
   "cell_type": "markdown",
   "id": "da993f28",
   "metadata": {},
   "source": [
    "### DATA PROCESSING"
   ]
  },
  {
   "cell_type": "code",
   "execution_count": 8,
   "id": "276acb26",
   "metadata": {},
   "outputs": [],
   "source": [
    "#Now we convert the numerical data into text data so that we can create dummy variables"
   ]
  },
  {
   "cell_type": "code",
   "execution_count": 88,
   "id": "8963efa8",
   "metadata": {},
   "outputs": [
    {
     "name": "stderr",
     "output_type": "stream",
     "text": [
      "C:\\Users\\saksh\\AppData\\Local\\Temp\\ipykernel_12588\\1947388988.py:7: SettingWithCopyWarning: \n",
      "A value is trying to be set on a copy of a slice from a DataFrame.\n",
      "Try using .loc[row_indexer,col_indexer] = value instead\n",
      "\n",
      "See the caveats in the documentation: https://pandas.pydata.org/pandas-docs/stable/user_guide/indexing.html#returning-a-view-versus-a-copy\n",
      "  df['Type'] = df.apply(my_func, axis=1)\n"
     ]
    }
   ],
   "source": [
    "def my_func(row):\n",
    "    if row['Type']==2:\n",
    "        val = 'Cat'\n",
    "    else:\n",
    "        val = 'Dog'\n",
    "    return val\n",
    "df['Type'] = df.apply(my_func, axis=1)"
   ]
  },
  {
   "cell_type": "code",
   "execution_count": 89,
   "id": "3bcf34af",
   "metadata": {},
   "outputs": [
    {
     "name": "stderr",
     "output_type": "stream",
     "text": [
      "C:\\Users\\saksh\\AppData\\Local\\Temp\\ipykernel_12588\\136547245.py:7: SettingWithCopyWarning: \n",
      "A value is trying to be set on a copy of a slice from a DataFrame.\n",
      "Try using .loc[row_indexer,col_indexer] = value instead\n",
      "\n",
      "See the caveats in the documentation: https://pandas.pydata.org/pandas-docs/stable/user_guide/indexing.html#returning-a-view-versus-a-copy\n",
      "  df['Gender'] = df.apply(my_func2, axis=1)\n"
     ]
    }
   ],
   "source": [
    "def my_func2(row):\n",
    "    if row['Gender']==2:\n",
    "        val = 'Female'\n",
    "    else:\n",
    "        val = 'Male'\n",
    "    return val\n",
    "df['Gender'] = df.apply(my_func2, axis=1)"
   ]
  },
  {
   "cell_type": "code",
   "execution_count": 90,
   "id": "f56194b2",
   "metadata": {},
   "outputs": [
    {
     "name": "stderr",
     "output_type": "stream",
     "text": [
      "C:\\Users\\saksh\\AppData\\Local\\Temp\\ipykernel_12588\\2874342221.py:10: SettingWithCopyWarning: \n",
      "A value is trying to be set on a copy of a slice from a DataFrame.\n",
      "Try using .loc[row_indexer,col_indexer] = value instead\n",
      "\n",
      "See the caveats in the documentation: https://pandas.pydata.org/pandas-docs/stable/user_guide/indexing.html#returning-a-view-versus-a-copy\n",
      "  df['FurLength']=df.apply(numtotext, axis=1)\n"
     ]
    }
   ],
   "source": [
    "def numtotext(row):\n",
    "    if row.FurLength==1:\n",
    "        val='Short'\n",
    "    elif row.FurLength==2:\n",
    "        val='Medium'\n",
    "    elif row.FurLength==3:\n",
    "        val='Long'\n",
    "    else: val='Not Specified'\n",
    "    return val\n",
    "df['FurLength']=df.apply(numtotext, axis=1)"
   ]
  },
  {
   "cell_type": "code",
   "execution_count": 91,
   "id": "3055e8ba",
   "metadata": {},
   "outputs": [
    {
     "name": "stderr",
     "output_type": "stream",
     "text": [
      "C:\\Users\\saksh\\AppData\\Local\\Temp\\ipykernel_12588\\207963058.py:10: SettingWithCopyWarning: \n",
      "A value is trying to be set on a copy of a slice from a DataFrame.\n",
      "Try using .loc[row_indexer,col_indexer] = value instead\n",
      "\n",
      "See the caveats in the documentation: https://pandas.pydata.org/pandas-docs/stable/user_guide/indexing.html#returning-a-view-versus-a-copy\n",
      "  df['Vaccinated']=df.apply(numtotext, axis=1)\n"
     ]
    }
   ],
   "source": [
    "def numtotext(df):\n",
    "    if df.Vaccinated==1:\n",
    "        val='Yes'\n",
    "    elif df.Vaccinated==2:\n",
    "        val='No'\n",
    "    elif df.Vaccinated==3:\n",
    "        val='Not Sure'\n",
    "    else: val='Not Specified'\n",
    "    return val\n",
    "df['Vaccinated']=df.apply(numtotext, axis=1)"
   ]
  },
  {
   "cell_type": "code",
   "execution_count": 92,
   "id": "58464ea7",
   "metadata": {},
   "outputs": [
    {
     "name": "stderr",
     "output_type": "stream",
     "text": [
      "C:\\Users\\saksh\\AppData\\Local\\Temp\\ipykernel_12588\\35500033.py:10: SettingWithCopyWarning: \n",
      "A value is trying to be set on a copy of a slice from a DataFrame.\n",
      "Try using .loc[row_indexer,col_indexer] = value instead\n",
      "\n",
      "See the caveats in the documentation: https://pandas.pydata.org/pandas-docs/stable/user_guide/indexing.html#returning-a-view-versus-a-copy\n",
      "  df['Dewormed']=df.apply(numtotext, axis=1)\n"
     ]
    }
   ],
   "source": [
    "def numtotext(df):\n",
    "    if df.Dewormed==1:\n",
    "        val='Yes'\n",
    "    elif df.Dewormed==2:\n",
    "        val='No'\n",
    "    elif df.Dewormed==3:\n",
    "        val='Not Sure'\n",
    "    else: val='Not Specified'\n",
    "    return val\n",
    "df['Dewormed']=df.apply(numtotext, axis=1)"
   ]
  },
  {
   "cell_type": "code",
   "execution_count": 93,
   "id": "ea7a5600",
   "metadata": {},
   "outputs": [
    {
     "name": "stderr",
     "output_type": "stream",
     "text": [
      "C:\\Users\\saksh\\AppData\\Local\\Temp\\ipykernel_12588\\2206426617.py:10: SettingWithCopyWarning: \n",
      "A value is trying to be set on a copy of a slice from a DataFrame.\n",
      "Try using .loc[row_indexer,col_indexer] = value instead\n",
      "\n",
      "See the caveats in the documentation: https://pandas.pydata.org/pandas-docs/stable/user_guide/indexing.html#returning-a-view-versus-a-copy\n",
      "  df['Sterilized']=df.apply(numtotext, axis=1)\n"
     ]
    }
   ],
   "source": [
    "def numtotext(df):\n",
    "    if df.Sterilized==1:\n",
    "        val='Yes'\n",
    "    elif df.Sterilized==2:\n",
    "        val='No'\n",
    "    elif df.Sterilized==3:\n",
    "        val='Not Sure'\n",
    "    else: val='Not Specified'\n",
    "    return val\n",
    "df['Sterilized']=df.apply(numtotext, axis=1)"
   ]
  },
  {
   "cell_type": "code",
   "execution_count": 94,
   "id": "4a4a7576",
   "metadata": {},
   "outputs": [
    {
     "name": "stderr",
     "output_type": "stream",
     "text": [
      "C:\\Users\\saksh\\AppData\\Local\\Temp\\ipykernel_12588\\3755023601.py:10: SettingWithCopyWarning: \n",
      "A value is trying to be set on a copy of a slice from a DataFrame.\n",
      "Try using .loc[row_indexer,col_indexer] = value instead\n",
      "\n",
      "See the caveats in the documentation: https://pandas.pydata.org/pandas-docs/stable/user_guide/indexing.html#returning-a-view-versus-a-copy\n",
      "  df['Health']=df.apply(numtotext, axis=1)\n"
     ]
    }
   ],
   "source": [
    "def numtotext(df):\n",
    "    if df.Health==1:\n",
    "        val='Healthy'\n",
    "    elif df.Health==2:\n",
    "        val='Minor Injury'\n",
    "    elif df.Health==3:\n",
    "        val='Serious Injury'\n",
    "    else: val='Not Specified'\n",
    "    return val\n",
    "df['Health']=df.apply(numtotext, axis=1)"
   ]
  },
  {
   "cell_type": "code",
   "execution_count": 95,
   "id": "f3bbe7b0",
   "metadata": {},
   "outputs": [
    {
     "name": "stderr",
     "output_type": "stream",
     "text": [
      "C:\\Users\\saksh\\AppData\\Local\\Temp\\ipykernel_12588\\1640194577.py:16: SettingWithCopyWarning: \n",
      "A value is trying to be set on a copy of a slice from a DataFrame.\n",
      "Try using .loc[row_indexer,col_indexer] = value instead\n",
      "\n",
      "See the caveats in the documentation: https://pandas.pydata.org/pandas-docs/stable/user_guide/indexing.html#returning-a-view-versus-a-copy\n",
      "  df['Color']=df.apply(numtotext, axis=1)\n"
     ]
    }
   ],
   "source": [
    "def numtotext(df):\n",
    "    if df.Color==1:\n",
    "        val='Black'\n",
    "    elif df.Color==2:\n",
    "        val='Brown'\n",
    "    elif df.Color==3:\n",
    "        val='Golden'\n",
    "    elif df.Color==4:\n",
    "        val='Yellow'\n",
    "    elif df.Color==5:\n",
    "        val='Cream'\n",
    "    elif df.Color==6:\n",
    "        val='Gray'    \n",
    "    else: val='White'\n",
    "    return val\n",
    "df['Color']=df.apply(numtotext, axis=1)"
   ]
  },
  {
   "cell_type": "code",
   "execution_count": 96,
   "id": "a739aad6",
   "metadata": {},
   "outputs": [
    {
     "name": "stderr",
     "output_type": "stream",
     "text": [
      "C:\\Users\\saksh\\AppData\\Local\\Temp\\ipykernel_12588\\3165463011.py:10: SettingWithCopyWarning: \n",
      "A value is trying to be set on a copy of a slice from a DataFrame.\n",
      "Try using .loc[row_indexer,col_indexer] = value instead\n",
      "\n",
      "See the caveats in the documentation: https://pandas.pydata.org/pandas-docs/stable/user_guide/indexing.html#returning-a-view-versus-a-copy\n",
      "  df['Size']=df.apply(numtotext, axis=1)\n"
     ]
    }
   ],
   "source": [
    "def numtotext(df):\n",
    "    if df.Size==1:\n",
    "        val='Small'\n",
    "    elif df.Size==2:\n",
    "        val='Medium'\n",
    "    elif df.Size==3:\n",
    "        val='Large'\n",
    "    else: val='Not Specified'\n",
    "    return val\n",
    "df['Size']=df.apply(numtotext, axis=1)"
   ]
  },
  {
   "cell_type": "code",
   "execution_count": 97,
   "id": "4641e77b",
   "metadata": {
    "scrolled": false
   },
   "outputs": [
    {
     "name": "stdout",
     "output_type": "stream",
     "text": [
      "<class 'pandas.core.frame.DataFrame'>\n",
      "Int64Index: 14002 entries, 0 to 14992\n",
      "Data columns (total 13 columns):\n",
      " #   Column         Non-Null Count  Dtype \n",
      "---  ------         --------------  ----- \n",
      " 0   Type           14002 non-null  object\n",
      " 1   Age            14002 non-null  int64 \n",
      " 2   Gender         14002 non-null  object\n",
      " 3   Color          14002 non-null  object\n",
      " 4   Size           14002 non-null  object\n",
      " 5   FurLength      14002 non-null  object\n",
      " 6   Vaccinated     14002 non-null  object\n",
      " 7   Dewormed       14002 non-null  object\n",
      " 8   Sterilized     14002 non-null  object\n",
      " 9   Health         14002 non-null  object\n",
      " 10  Description    14001 non-null  object\n",
      " 11  PetID          14002 non-null  object\n",
      " 12  AdoptionSpeed  14002 non-null  int64 \n",
      "dtypes: int64(2), object(11)\n",
      "memory usage: 1.5+ MB\n"
     ]
    }
   ],
   "source": [
    "df.info()"
   ]
  },
  {
   "cell_type": "code",
   "execution_count": 461,
   "id": "fa7a9a14",
   "metadata": {},
   "outputs": [],
   "source": [
    "#Categorizing Adoption Speed into specific classes\n",
    "#As per the existing dataset, following is the classification:\n",
    "\n",
    "#Adoption Speed = 0, Adopted within a day\n",
    "#Adoption Speed = 1, Adopted within a week\n",
    "#Adoption Speed = 2, Adopted within a month\n",
    "#Adoption Speed = 3, Adopted within 3 months\n",
    "#Adoption Speed = 4, Not Adopted in 3 months\n",
    "\n",
    "#For generating accurate predictions, we will categorize the Adoption Speed as follows:\n",
    "\n",
    "#Adoption Speed = 0,1,2 -> Adoption Speed = Fast\n",
    "#Adoption Speed = 3,4 -> Adoption Speed = Slow"
   ]
  },
  {
   "cell_type": "code",
   "execution_count": 98,
   "id": "9970fc6d",
   "metadata": {},
   "outputs": [
    {
     "name": "stderr",
     "output_type": "stream",
     "text": [
      "C:\\Users\\saksh\\AppData\\Local\\Temp\\ipykernel_12588\\3188640627.py:2: SettingWithCopyWarning: \n",
      "A value is trying to be set on a copy of a slice from a DataFrame.\n",
      "Try using .loc[row_indexer,col_indexer] = value instead\n",
      "\n",
      "See the caveats in the documentation: https://pandas.pydata.org/pandas-docs/stable/user_guide/indexing.html#returning-a-view-versus-a-copy\n",
      "  df['AdoptionSpeed_categorical'] = df['AdoptionSpeed']\n"
     ]
    }
   ],
   "source": [
    "#creating a column for categorizing Adoption Speed\n",
    "df['AdoptionSpeed_categorical'] = df['AdoptionSpeed'] "
   ]
  },
  {
   "cell_type": "code",
   "execution_count": 99,
   "id": "ab64b1fc",
   "metadata": {},
   "outputs": [
    {
     "name": "stderr",
     "output_type": "stream",
     "text": [
      "C:\\Users\\saksh\\AppData\\Local\\Temp\\ipykernel_12588\\962322626.py:7: SettingWithCopyWarning: \n",
      "A value is trying to be set on a copy of a slice from a DataFrame.\n",
      "Try using .loc[row_indexer,col_indexer] = value instead\n",
      "\n",
      "See the caveats in the documentation: https://pandas.pydata.org/pandas-docs/stable/user_guide/indexing.html#returning-a-view-versus-a-copy\n",
      "  df['AdoptionSpeed_categorical']=df.apply(numtotext, axis=1)\n"
     ]
    }
   ],
   "source": [
    "def numtotext(df):\n",
    "    if df.AdoptionSpeed<=2:\n",
    "        val='Fast'\n",
    "    else:\n",
    "        val='Slow'\n",
    "    return val\n",
    "df['AdoptionSpeed_categorical']=df.apply(numtotext, axis=1)"
   ]
  },
  {
   "cell_type": "markdown",
   "id": "485a71a3",
   "metadata": {},
   "source": [
    "### EXPLORATORY DATA ANALYSIS"
   ]
  },
  {
   "cell_type": "code",
   "execution_count": 100,
   "id": "4526eb0a",
   "metadata": {},
   "outputs": [],
   "source": [
    "#Exploratory Data Analysis\n",
    "def EDA(dataset):\n",
    "    amean=dataset.Age.mean()\n",
    "    gcount=dataset.Gender.value_counts().to_frame()\n",
    "    msize=dataset.Size.value_counts().to_frame()\n",
    "    h=dataset.Health.value_counts().to_frame()\n",
    "    return print(\"Mean Age in months: \"+str(amean)), print(gcount), print(msize), print(h) "
   ]
  },
  {
   "cell_type": "code",
   "execution_count": 101,
   "id": "0e8c5f60",
   "metadata": {},
   "outputs": [
    {
     "name": "stdout",
     "output_type": "stream",
     "text": [
      "Mean Age in months: 10.70432795314955\n",
      "        Gender\n",
      "Male      7267\n",
      "Female    6735\n",
      "               Size\n",
      "Medium         9539\n",
      "Small          3231\n",
      "Large          1201\n",
      "Not Specified    31\n",
      "                Health\n",
      "Healthy          13508\n",
      "Minor Injury       460\n",
      "Serious Injury      34\n"
     ]
    },
    {
     "data": {
      "text/plain": [
       "(None, None, None, None)"
      ]
     },
     "execution_count": 101,
     "metadata": {},
     "output_type": "execute_result"
    }
   ],
   "source": [
    "EDA(df)"
   ]
  },
  {
   "cell_type": "code",
   "execution_count": 102,
   "id": "57cb507a",
   "metadata": {},
   "outputs": [
    {
     "data": {
      "image/png": "[encoded data removed]",
      "text/plain": [
       "<Figure size 432x288 with 1 Axes>"
      ]
     },
     "metadata": {},
     "output_type": "display_data"
    }
   ],
   "source": [
    "x=df['Type'][df['Type']=='Cat'].count()\n",
    "y=df['Type'][df['Type']=='Dog'].count()\n",
    "\n",
    "fig, ax2=plt.subplots()\n",
    "ax2.pie((x,y), labels=('Cats','Dogs'), autopct='%1.1f%%', colors=('aquamarine','mediumturquoise'))\n",
    "\n",
    "centre_circle = plt.Circle((0,0),0.75,fc='white')\n",
    "fig = plt.gcf()\n",
    "fig.gca().add_artist(centre_circle)\n",
    "plt.title('Type of Pet')\n",
    "plt.show()"
   ]
  },
  {
   "cell_type": "code",
   "execution_count": 103,
   "id": "3e875f0a",
   "metadata": {},
   "outputs": [
    {
     "data": {
      "image/png": "[encoded data removed]",
      "text/plain": [
       "<Figure size 432x288 with 1 Axes>"
      ]
     },
     "metadata": {},
     "output_type": "display_data"
    }
   ],
   "source": [
    "x=df['Gender'][df['Gender']=='Male'].count()\n",
    "y=df['Gender'][df['Gender']=='Female'].count()\n",
    "\n",
    "fig, ax1=plt.subplots()\n",
    "ax1.pie((x,y), labels=('Male Pets','Female Pets'), autopct='%1.1f%%', colors=('aquamarine','mediumturquoise'))\n",
    "\n",
    "centre_circle = plt.Circle((0,0),0.75,fc='white')\n",
    "fig = plt.gcf()\n",
    "fig.gca().add_artist(centre_circle)\n",
    "plt.title('Gender Distribution')\n",
    "plt.show()"
   ]
  },
  {
   "cell_type": "code",
   "execution_count": 104,
   "id": "d0ec018f",
   "metadata": {},
   "outputs": [
    {
     "data": {
      "image/png": "[encoded data removed]",
      "text/plain": [
       "<Figure size 432x288 with 1 Axes>"
      ]
     },
     "metadata": {},
     "output_type": "display_data"
    }
   ],
   "source": [
    "adoption_speed = df.AdoptionSpeed.value_counts(ascending = True).sort_index().to_frame()\n",
    "adoption_speed_labels = ['Adopted Same Day', 'Adopted between 1 to 7 Days', 'Adopted between 8 to 30 Days', 'Adopted between 31 to 90 Days', 'No Adoption after 100 Days' ] \n",
    "explode = (0.05,0.05,0.05,0.05,0.05)\n",
    "plt.pie(adoption_speed.AdoptionSpeed, labels = adoption_speed_labels, colors = colors, autopct='%1.1f%%', explode = explode)\n",
    "colors = ['lightseagreen','mediumaquamarine','aquamarine','turquoise','mediumturquoise']\n",
    "plt.legend(title = \"Adoption Speed of all Pets:\", bbox_to_anchor=(2.5,1.02), loc = 'right')\n",
    "plt.show()"
   ]
  },
  {
   "cell_type": "code",
   "execution_count": 105,
   "id": "5fa94d4b",
   "metadata": {
    "scrolled": false
   },
   "outputs": [
    {
     "data": {
      "text/plain": [
       "<matplotlib.legend.Legend at 0x273ac2d6c10>"
      ]
     },
     "execution_count": 105,
     "metadata": {},
     "output_type": "execute_result"
    },
    {
     "data": {
      "image/png": "[encoded data removed]",
      "text/plain": [
       "<Figure size 720x432 with 1 Axes>"
      ]
     },
     "metadata": {},
     "output_type": "display_data"
    }
   ],
   "source": [
    "fig=plt.figure(figsize=(10,6))\n",
    "ax=sns.countplot(data=df, x=\"Dewormed\", hue='Type', palette = 'Greens')\n",
    "for container in ax.containers:\n",
    "    ax.bar_label(container)\n",
    "sns.despine()\n",
    "sns.set_style(\"white\")\n",
    "plt.legend(bbox_to_anchor=(1.02, 1), loc='upper left', borderaxespad=0)"
   ]
  },
  {
   "cell_type": "code",
   "execution_count": 106,
   "id": "8ff5e7fc",
   "metadata": {},
   "outputs": [
    {
     "data": {
      "text/plain": [
       "<matplotlib.legend.Legend at 0x273ac377e50>"
      ]
     },
     "execution_count": 106,
     "metadata": {},
     "output_type": "execute_result"
    },
    {
     "data": {
      "image/png": "[encoded data removed]",
      "text/plain": [
       "<Figure size 720x432 with 1 Axes>"
      ]
     },
     "metadata": {},
     "output_type": "display_data"
    }
   ],
   "source": [
    "fig=plt.figure(figsize=(10,6))\n",
    "ax=sns.countplot(data=df, x=\"Sterilized\", hue='Type', palette = 'Greens')\n",
    "for container in ax.containers:\n",
    "    ax.bar_label(container)\n",
    "sns.despine()\n",
    "sns.set_style(\"white\")\n",
    "plt.legend(bbox_to_anchor=(1.02, 1), loc='upper left', borderaxespad=0)"
   ]
  },
  {
   "cell_type": "code",
   "execution_count": 107,
   "id": "249945eb",
   "metadata": {},
   "outputs": [
    {
     "data": {
      "image/png": "[encoded data removed]",
      "text/plain": [
       "<Figure size 720x504 with 1 Axes>"
      ]
     },
     "metadata": {},
     "output_type": "display_data"
    }
   ],
   "source": [
    "#Box Plot to understand Age Distribution\n",
    "\n",
    "fig = plt.figure(figsize =(10, 7))\n",
    "temp=df[df.Age<=50] \n",
    "plt.boxplot(temp.Age)\n",
    " \n",
    "plt.show()\n",
    "\n",
    "#Even after filtering the age as less than 50 months, we notice that there are many outliers above the age of 18 months"
   ]
  },
  {
   "cell_type": "code",
   "execution_count": 108,
   "id": "f9c04f0b",
   "metadata": {},
   "outputs": [
    {
     "name": "stderr",
     "output_type": "stream",
     "text": [
      "C:\\Users\\saksh\\AppData\\Local\\Temp\\ipykernel_12588\\958913191.py:5: SettingWithCopyWarning: \n",
      "A value is trying to be set on a copy of a slice from a DataFrame\n",
      "\n",
      "See the caveats in the documentation: https://pandas.pydata.org/pandas-docs/stable/user_guide/indexing.html#returning-a-view-versus-a-copy\n",
      "  df.drop(outliers, inplace=True)\n"
     ]
    }
   ],
   "source": [
    "#Now I exploredthe distribution of the age by removing the outliers\n",
    "\n",
    "#Removing outliers:\n",
    "outliers=df[df.Age>20].index\n",
    "df.drop(outliers, inplace=True)"
   ]
  },
  {
   "cell_type": "code",
   "execution_count": 109,
   "id": "7be32c05",
   "metadata": {},
   "outputs": [
    {
     "data": {
      "text/plain": [
       "Text(0.5, 0, 'Age (months)')"
      ]
     },
     "execution_count": 109,
     "metadata": {},
     "output_type": "execute_result"
    },
    {
     "data": {
      "image/png": "[encoded data removed]",
      "text/plain": [
       "<Figure size 720x432 with 1 Axes>"
      ]
     },
     "metadata": {},
     "output_type": "display_data"
    }
   ],
   "source": [
    "fig=plt.figure(figsize=(10,6))\n",
    "petage=df.Age\n",
    "sns.histplot(petage,bins=9,color='turquoise')\n",
    "plt.title('Number of Pets / Age Group')\n",
    "plt.xlabel('Age (months)')"
   ]
  }
 ],
 "metadata": {
  "kernelspec": {
   "display_name": "Python 3 (ipykernel)",
   "language": "python",
   "name": "python3"
  },
  "language_info": {
   "codemirror_mode": {
    "name": "ipython",
    "version": 3
   },
   "file_extension": ".py",
   "mimetype": "text/x-python",
   "name": "python",
   "nbconvert_exporter": "python",
   "pygments_lexer": "ipython3",
   "version": "3.9.12"
  }
 },
 "nbformat": 4,
 "nbformat_minor": 5
}
